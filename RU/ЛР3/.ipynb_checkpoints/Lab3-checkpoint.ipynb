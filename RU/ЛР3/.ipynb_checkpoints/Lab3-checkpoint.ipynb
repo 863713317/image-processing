{
 "cells": [
  {
   "cell_type": "markdown",
   "metadata": {},
   "source": [
    "# Лабораторная работа №3. Гистограммы изображения. Автоконтраст изображения."
   ]
  },
  {
   "cell_type": "code",
   "execution_count": 100,
   "metadata": {},
   "outputs": [],
   "source": [
    "from skimage.io import imread, imshow, imsave\n",
    "from skimage import img_as_float, img_as_ubyte\n",
    "from skimage.color import rgb2gray\n",
    "import numpy as np\n",
    "import matplotlib.pyplot as plt\n",
    "%matplotlib inline"
   ]
  },
  {
   "cell_type": "markdown",
   "metadata": {},
   "source": [
    "Задание №1. Прочитайте изображение из файла img_1.png. Выведите изображение. Выведите гистограмму изображения (необходимо использовать функцию hist из matplotlib.pyplot, предварительно изображение надо представить в виде одномерного вектора с помощью функции ravel библиотеки numpy). Примените линейное выравнивание яркости к каждому пикселю изображения:\n",
    "\n",
    "$f(x)=(x-x_{min})\\frac{255}{x_{max} - x_{min}}$\n",
    "\n",
    "Выведите получившееся изображения и его гистограмму.\n",
    "После вычисления значения каждого пикселя будут вещественными. Переведите их в целые числа, используя img.astype('uint8')."
   ]
  },
  {
   "cell_type": "code",
   "execution_count": 58,
   "metadata": {},
   "outputs": [],
   "source": [
    "# Код тут"
   ]
  },
  {
   "cell_type": "markdown",
   "metadata": {},
   "source": [
    "Задание №2. Загрузите изображение из файла img_2.png. Напишите функцию, которая реализует устойчивый автоконтраст изображения. На вход функции подается изображение и два параметра в процентах: количество отбрасываемых самых темных пикселей и количество отбрасываемых самых светлых пикселей. Перед вычислениями приведите изображение в вещественные числы (img.astype('float')). После растяжения яркости обрежьте значения от 0 до 255 с помощью функции numpy.clip."
   ]
  },
  {
   "cell_type": "code",
   "execution_count": null,
   "metadata": {},
   "outputs": [],
   "source": [
    "def (img, low, high):\n",
    "    # Код тут\n",
    "    \n",
    "    return new_img"
   ]
  },
  {
   "cell_type": "markdown",
   "metadata": {},
   "source": [
    "Задание №3. \n",
    "Прочитайте цветное изображение из файла horse.png. Примените к нему устойчивый автоконтраст. Для этого:\n",
    "1. Переведите изображение в вещественные числа от 0 до 1.\n",
    "2. Переведите изображение в пространство YUV по формулам:\n",
    "<br />\n",
    "$Y =  0.2126⋅R+0.7152⋅G+0.0722⋅B;$\n",
    "<br />\n",
    "$U =−0.0999⋅R−0.3360⋅G+0.4360⋅B;$\n",
    "<br />\n",
    "$V =  0.6150⋅R−0.5586⋅G−0.0563⋅B.$\n",
    "3. Найдите максимум и минимум для устойчивого автоконтраста с отбрасыванием 5% самых светлых и 5% самых темных пикселей.\n",
    "4. Примените линейное растяжение канала Y по формуле\n",
    "<br />\n",
    "$f(x)=(x-x_{min})\\frac{255}{x_{max} - x_{min}}.$\n",
    "5. Обрежьте значения канала Y от 0 до 1.\n",
    "6. Переведите изображение в пространство RGB по формулам:\n",
    "<br />\n",
    "$R = Y+1.2803⋅V;$\n",
    "<br />\n",
    "$G = Y−0.2148⋅U−0.3805⋅V;$\n",
    "<br />\n",
    "$B = Y+2.1279⋅U.$\n",
    "7. Обрежьте значения изображения от 0 до 1.\n",
    "8. Переведите изображение в целые числа от 0 до 255."
   ]
  },
  {
   "cell_type": "code",
   "execution_count": 35,
   "metadata": {},
   "outputs": [],
   "source": [
    "# Код тут"
   ]
  }
 ],
 "metadata": {
  "kernelspec": {
   "display_name": "Python 3",
   "language": "python",
   "name": "python3"
  },
  "language_info": {
   "codemirror_mode": {
    "name": "ipython",
    "version": 3
   },
   "file_extension": ".py",
   "mimetype": "text/x-python",
   "name": "python",
   "nbconvert_exporter": "python",
   "pygments_lexer": "ipython3",
   "version": "3.6.3"
  }
 },
 "nbformat": 4,
 "nbformat_minor": 2
}
