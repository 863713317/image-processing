{
 "cells": [
  {
   "cell_type": "markdown",
   "metadata": {},
   "source": [
    "# Лабораторная работа №4. Серый мир. Выравнивание гистограммы"
   ]
  },
  {
   "cell_type": "code",
   "execution_count": 1,
   "metadata": {},
   "outputs": [],
   "source": [
    "from skimage.io import imread, imshow, imsave\n",
    "from skimage import img_as_float, img_as_ubyte\n",
    "import numpy as np\n",
    "import matplotlib.pyplot as plt\n",
    "%matplotlib inline"
   ]
  },
  {
   "cell_type": "markdown",
   "metadata": {},
   "source": [
    "Задание №1. Прочитайте изображение из файла img_1.png. Примените к нему преобразование серого мира. Для этого:\n",
    "1. Сконвертируйте изображение в вещественные числа.\n",
    "2. Подсчитайте коэффициенты $rw = \\frac{\\overline{R}}{Avg}$,$gw = \\frac{\\overline{G}}{Avg}$,$bw = \\frac{\\overline{B}}{Avg}$, где $Avg = \\frac{\\overline{R} + \\overline{G} + \\overline{B}}{3}$.\n",
    "3. Поделите каналы изображения на коэффициенты.\n",
    "4. Обрежьте значения пикселей, чтобы они не выходили из допустимого диапазона ([0; 255] или [0;1]).\n",
    "Результат выведите на экран."
   ]
  },
  {
   "cell_type": "code",
   "execution_count": 3,
   "metadata": {},
   "outputs": [],
   "source": [
    "# Код тут"
   ]
  },
  {
   "cell_type": "markdown",
   "metadata": {},
   "source": [
    "Задание №2. Прочитайте изображение из файла img_2.png. Примените к нему выравнивание гистограммы, чтобы функция распределения имела вид близкий к линейному.\n",
    "Формула преобразование функции распределения:\n",
    "\n",
    "$f(x) = \\frac{cdf(x) - cdf_{min}}{Num_{pxl} - 1} \\times 255 $,\n",
    "где $cdf$ - функция распределения, $Num_{pxl}$ - количество пикселей, $cdf_{min}$ - минимальное значение $cdf$ не равное 0. \n",
    "\n",
    "Дополнение:\n",
    "$cdf$ равно кумулятивной сумме столбцов гистограммы изображения (np.cumsum)\n",
    "\n",
    "Выведите изображение до и после выравнивания гистограммы."
   ]
  },
  {
   "cell_type": "code",
   "execution_count": null,
   "metadata": {},
   "outputs": [],
   "source": [
    "# Код тут"
   ]
  }
 ],
 "metadata": {
  "kernelspec": {
   "display_name": "Python 3",
   "language": "python",
   "name": "python3"
  },
  "language_info": {
   "codemirror_mode": {
    "name": "ipython",
    "version": 3
   },
   "file_extension": ".py",
   "mimetype": "text/x-python",
   "name": "python",
   "nbconvert_exporter": "python",
   "pygments_lexer": "ipython3",
   "version": "3.6.5"
  }
 },
 "nbformat": 4,
 "nbformat_minor": 2
}
