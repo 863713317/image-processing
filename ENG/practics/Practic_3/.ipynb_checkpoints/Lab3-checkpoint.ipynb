{
 "cells": [
  {
   "cell_type": "markdown",
   "metadata": {},
   "source": [
    "# Лабораторная работа №2"
   ]
  },
  {
   "cell_type": "code",
   "execution_count": 31,
   "metadata": {},
   "outputs": [],
   "source": [
    "from skimage.io import imread, imshow, imsave\n",
    "from skimage import img_as_float\n",
    "import numpy as np\n",
    "%matplotlib inline"
   ]
  },
  {
   "cell_type": "markdown",
   "metadata": {},
   "source": [
    "Задание №1. Прочитайте изображение из файла img.png. У этого изображения нечетное количество строк и столбцов. Вычислите негатив изображения."
   ]
  },
  {
   "cell_type": "code",
   "execution_count": 33,
   "metadata": {},
   "outputs": [],
   "source": [
    "# Код тут"
   ]
  },
  {
   "cell_type": "markdown",
   "metadata": {},
   "source": [
    "Задание №2. Загрузите изображение из файла img.png. У этого изображения поменяйте местами каналы так, чтобы вместо порядка RGB каналы шли в порядке BRG. Воспользуйтесь функцией dstack."
   ]
  },
  {
   "cell_type": "code",
   "execution_count": 34,
   "metadata": {},
   "outputs": [],
   "source": [
    "# Код тут"
   ]
  },
  {
   "cell_type": "markdown",
   "metadata": {},
   "source": [
    "Задание №3. Загрузите цветное изображение из файла img.png. Подсчитайте яркость этого изображения. Результирующее изображение должно быть одноканальным. Для подсчета яркости используйте формулу $Y=0.2126⋅R+0.7152⋅G+0.0722⋅B$, не забудьте сначала перевести изображение в вещественные числа (функция img_as_float), а затем в целые числа (функция img_as_ubyte)."
   ]
  },
  {
   "cell_type": "code",
   "execution_count": 35,
   "metadata": {},
   "outputs": [],
   "source": [
    "# Код тут"
   ]
  },
  {
   "cell_type": "markdown",
   "metadata": {},
   "source": [
    "Задание №4. Напишите функцию combine_channels для фотографий Прокудина-Горского (00.png - 10.png), на вход которой подается изображение негатива. Функция должна вернуть трехканальное RGB-изображение.\n",
    "Алгоритм:\n",
    "1. Разделить негатив по вертикали на три равные части. Должно получиться 3 канала изображения одинакового размера.\n",
    "2. Обрезать 5% краев рамок каналов.\n",
    "3. Сравнение красного и синего канала:\n",
    "    а. сдвигаете последовательно один относительно другого на от 15 до -15 строк (функция roll библиотеки numpy)\n",
    "    b. сдвигаете последовательно один относительно другого на от 15 до -15 строк (функция roll библиотеки numpy)\n",
    "    c. для каждого сдвига, производите рассчет меры похожести с помощью корреляции (correlation = (r * b).sum())\n",
    "    Чем больше значение корреляции, тем лучше.\n",
    "4. Сравнение красного и зеленого канала:\n",
    "    а. сдвигаете последовательно один относительно другого на от 15 до -15 строк (функция roll библиотеки numpy)\n",
    "    b. сдвигаете последовательно один относительно другого на от 15 до -15 строк (функция roll библиотеки numpy)\n",
    "    c. для каждого сдвига, производите рассчет меры похожести с помощью корреляции (correlation = (r * g).sum())\n",
    "    Чем больше значение корреляции, тем лучше\n",
    "5. Собираем изображение из каналов с лучшим сдвигом."
   ]
  },
  {
   "cell_type": "code",
   "execution_count": 42,
   "metadata": {},
   "outputs": [],
   "source": [
    "def combine_channels(img):\n",
    "    # Код тут\n",
    "    \n",
    "    return new_img"
   ]
  }
 ],
 "metadata": {
  "kernelspec": {
   "display_name": "Python 3",
   "language": "python",
   "name": "python3"
  },
  "language_info": {
   "codemirror_mode": {
    "name": "ipython",
    "version": 3
   },
   "file_extension": ".py",
   "mimetype": "text/x-python",
   "name": "python",
   "nbconvert_exporter": "python",
   "pygments_lexer": "ipython3",
   "version": "3.6.8"
  }
 },
 "nbformat": 4,
 "nbformat_minor": 2
}
